{
 "cells": [
  {
   "cell_type": "markdown",
   "metadata": {},
   "source": [
    "# 動画の一時的な保存と展開"
   ]
  },
  {
   "cell_type": "code",
   "execution_count": 1,
   "metadata": {
    "ExecuteTime": {
     "end_time": "2021-04-14T12:48:12.152408Z",
     "start_time": "2021-04-14T12:48:10.161483Z"
    }
   },
   "outputs": [],
   "source": [
    "from pathlib import Path\n",
    "import cv2\n",
    "import numpy as np"
   ]
  },
  {
   "cell_type": "code",
   "execution_count": 2,
   "metadata": {
    "ExecuteTime": {
     "end_time": "2021-04-14T12:48:12.968753Z",
     "start_time": "2021-04-14T12:48:12.162076Z"
    }
   },
   "outputs": [],
   "source": [
    "import h5py"
   ]
  },
  {
   "cell_type": "code",
   "execution_count": 3,
   "metadata": {
    "ExecuteTime": {
     "end_time": "2021-04-14T12:48:12.998671Z",
     "start_time": "2021-04-14T12:48:12.979198Z"
    }
   },
   "outputs": [],
   "source": [
    "import shutil"
   ]
  },
  {
   "cell_type": "markdown",
   "metadata": {},
   "source": [
    "## HDF5への動画の保存(np.int8として) "
   ]
  },
  {
   "cell_type": "code",
   "execution_count": 4,
   "metadata": {
    "ExecuteTime": {
     "end_time": "2021-04-14T02:53:35.000695Z",
     "start_time": "2021-04-14T02:53:34.958809Z"
    }
   },
   "outputs": [],
   "source": [
    "hdf5_path = Path(\"movie_data.hdf5\")\n",
    "f = h5py.File(hdf5_path, \"w\")\n",
    "group = f.create_group(\"/movie\")"
   ]
  },
  {
   "cell_type": "markdown",
   "metadata": {},
   "source": [
    "### データセットの作成に必要なテータの取得 "
   ]
  },
  {
   "cell_type": "code",
   "execution_count": 5,
   "metadata": {
    "ExecuteTime": {
     "end_time": "2021-04-14T02:53:35.097438Z",
     "start_time": "2021-04-14T02:53:35.014659Z"
    }
   },
   "outputs": [],
   "source": [
    "video_path = Path(\"movies/mini_movie.mp4\")\n",
    "cap = cv2.VideoCapture(str(video_path))"
   ]
  },
  {
   "cell_type": "code",
   "execution_count": 6,
   "metadata": {
    "ExecuteTime": {
     "end_time": "2021-04-14T02:53:35.157277Z",
     "start_time": "2021-04-14T02:53:35.108410Z"
    }
   },
   "outputs": [
    {
     "name": "stdout",
     "output_type": "stream",
     "text": [
      "640 480 500\n"
     ]
    }
   ],
   "source": [
    "w = int(cap.get(cv2.CAP_PROP_FRAME_WIDTH))\n",
    "h = int(cap.get(cv2.CAP_PROP_FRAME_HEIGHT))\n",
    "frame_num = int(cap.get(cv2.CAP_PROP_FRAME_COUNT))\n",
    "print(w,h,frame_num)"
   ]
  },
  {
   "cell_type": "code",
   "execution_count": 7,
   "metadata": {
    "ExecuteTime": {
     "end_time": "2021-04-14T02:53:35.189194Z",
     "start_time": "2021-04-14T02:53:35.169251Z"
    }
   },
   "outputs": [],
   "source": [
    "dataset = group.create_dataset(name=\"one_movie\",\n",
    "                               shape=(frame_num, h, w, 3),\n",
    "                               dtype=np.uint8\n",
    "                              )"
   ]
  },
  {
   "cell_type": "code",
   "execution_count": 8,
   "metadata": {
    "ExecuteTime": {
     "end_time": "2021-04-14T02:53:45.318164Z",
     "start_time": "2021-04-14T02:53:35.220108Z"
    }
   },
   "outputs": [],
   "source": [
    "for i in range(frame_num):\n",
    "    ret, frame = cap.read()\n",
    "    if frame is not None:\n",
    "        dataset[i] = frame\n",
    "\n",
    "cap.release()"
   ]
  },
  {
   "cell_type": "code",
   "execution_count": 9,
   "metadata": {
    "ExecuteTime": {
     "end_time": "2021-04-14T02:53:47.113951Z",
     "start_time": "2021-04-14T02:53:45.336703Z"
    }
   },
   "outputs": [
    {
     "name": "stdout",
     "output_type": "stream",
     "text": [
      "The slowest run took 4.15 times longer than the fastest. This could mean that an intermediate result is being cached.\n",
      "1.31 ms ± 795 µs per loop (mean ± std. dev. of 7 runs, 100 loops each)\n"
     ]
    }
   ],
   "source": [
    "%timeit first_frame = dataset[1]"
   ]
  },
  {
   "cell_type": "code",
   "execution_count": 10,
   "metadata": {
    "ExecuteTime": {
     "end_time": "2021-04-14T02:53:47.938121Z",
     "start_time": "2021-04-14T02:53:47.125920Z"
    }
   },
   "outputs": [],
   "source": [
    "f.close()"
   ]
  },
  {
   "cell_type": "markdown",
   "metadata": {},
   "source": [
    "### 既存のdatasetの参照 "
   ]
  },
  {
   "cell_type": "code",
   "execution_count": 11,
   "metadata": {
    "ExecuteTime": {
     "end_time": "2021-04-14T02:53:48.069759Z",
     "start_time": "2021-04-14T02:53:47.965039Z"
    }
   },
   "outputs": [],
   "source": [
    "f = h5py.File(hdf5_path, \"r\")"
   ]
  },
  {
   "cell_type": "code",
   "execution_count": 12,
   "metadata": {
    "ExecuteTime": {
     "end_time": "2021-04-14T02:53:48.128597Z",
     "start_time": "2021-04-14T02:53:48.091696Z"
    }
   },
   "outputs": [],
   "source": [
    "dataset = f[\"movie/one_movie\"]"
   ]
  },
  {
   "cell_type": "code",
   "execution_count": 13,
   "metadata": {
    "ExecuteTime": {
     "end_time": "2021-04-14T02:53:48.318091Z",
     "start_time": "2021-04-14T02:53:48.142562Z"
    }
   },
   "outputs": [
    {
     "data": {
      "text/plain": [
       "array([[[  0,   4,   3],\n",
       "        [  0,   4,   3],\n",
       "        [  0,   4,   3],\n",
       "        ...,\n",
       "        [192, 173, 181],\n",
       "        [192, 173, 181],\n",
       "        [192, 173, 181]],\n",
       "\n",
       "       [[  0,   0,   0],\n",
       "        [  0,   0,   0],\n",
       "        [  0,   0,   0],\n",
       "        ...,\n",
       "        [192, 173, 181],\n",
       "        [192, 173, 181],\n",
       "        [192, 173, 181]],\n",
       "\n",
       "       [[  0,   4,   3],\n",
       "        [  0,   4,   3],\n",
       "        [  0,   4,   3],\n",
       "        ...,\n",
       "        [192, 173, 181],\n",
       "        [192, 173, 181],\n",
       "        [192, 173, 181]],\n",
       "\n",
       "       ...,\n",
       "\n",
       "       [[120, 134,  82],\n",
       "        [120, 134,  82],\n",
       "        [120, 134,  82],\n",
       "        ...,\n",
       "        [  0,   3,   2],\n",
       "        [  0,   2,   1],\n",
       "        [  0,   2,   1]],\n",
       "\n",
       "       [[120, 134,  82],\n",
       "        [120, 134,  82],\n",
       "        [120, 134,  82],\n",
       "        ...,\n",
       "        [  0,   3,   2],\n",
       "        [  0,   2,   1],\n",
       "        [  0,   2,   1]],\n",
       "\n",
       "       [[120, 134,  82],\n",
       "        [120, 134,  82],\n",
       "        [120, 134,  82],\n",
       "        ...,\n",
       "        [  0,   3,   2],\n",
       "        [  0,   2,   1],\n",
       "        [  0,   2,   1]]], dtype=uint8)"
      ]
     },
     "execution_count": 13,
     "metadata": {},
     "output_type": "execute_result"
    }
   ],
   "source": [
    "first_frame = dataset[0]\n",
    "first_frame"
   ]
  },
  {
   "cell_type": "code",
   "execution_count": 14,
   "metadata": {
    "ExecuteTime": {
     "end_time": "2021-04-14T02:53:48.371975Z",
     "start_time": "2021-04-14T02:53:48.332057Z"
    }
   },
   "outputs": [],
   "source": [
    "f.close()"
   ]
  },
  {
   "cell_type": "markdown",
   "metadata": {},
   "source": [
    "データが大きすぎるので削除"
   ]
  },
  {
   "cell_type": "code",
   "execution_count": 15,
   "metadata": {
    "ExecuteTime": {
     "end_time": "2021-04-14T02:53:48.427795Z",
     "start_time": "2021-04-14T02:53:48.399872Z"
    }
   },
   "outputs": [],
   "source": [
    "hdf5_path.unlink()"
   ]
  },
  {
   "cell_type": "markdown",
   "metadata": {},
   "source": [
    "### 動画から取得した画像のarray "
   ]
  },
  {
   "cell_type": "code",
   "execution_count": 91,
   "metadata": {
    "ExecuteTime": {
     "end_time": "2021-04-14T04:41:30.952686Z",
     "start_time": "2021-04-14T04:41:30.826026Z"
    }
   },
   "outputs": [],
   "source": [
    "class MovieImageArray:\n",
    "    \"\"\"\n",
    "    動画をhdf5に保存することで，メモリを節約しつつ画像のリストとしてアクセス可能とした．\n",
    "    ストレージを利用するので注意．\n",
    "    \"\"\"\n",
    "    def __init__(self, movie_path, is_temp=False, temp_dir=Path(\"\")):\n",
    "        \"\"\"\n",
    "        movie_path: pathlib.Path or str\n",
    "            読み込みたい動画のパス\n",
    "        is_temp:　bool\n",
    "            保存データをcloseと同時に破棄するかどうか\n",
    "        temp_dir:　pathlib.Path or str\n",
    "            保存データを置くディレクトリ\n",
    "        \"\"\"\n",
    "        if movie_path is not None:\n",
    "            self.movie_path = Path(movie_path)\n",
    "            movie_name = self.movie_path.stem\n",
    "        else:\n",
    "            self.movie_path = None\n",
    "            movie_name = \"\"\n",
    "        self.is_temp = is_temp\n",
    "        \n",
    "        \n",
    "        self.hdf5_path = Path(temp_dir)/Path(\"hdf5_\" + movie_name+ \".hdf5\")\n",
    "        \n",
    "    def read_movie(self, is_update=False):\n",
    "        \"\"\"\n",
    "        動画データの読み込み\n",
    "        is_update: bool\n",
    "            すでに保存データが存在する場合にデータを更新するかとうか．\n",
    "        \"\"\"\n",
    "        if self.movie_path is None:\n",
    "            raise Exception(\"movie path is not setted\")\n",
    "            \n",
    "        if self.hdf5_path.exists() and not is_update:  # ファイルが存在しており，アップデートしない場合\n",
    "            self.f = h5py.File(self.hdf5_path, \"r\")\n",
    "            self.dataset = self.f[\"/movie/movie_dataset\"]\n",
    "            return None\n",
    "            \n",
    "        cap = cv2.VideoCapture(str(self.movie_path))\n",
    "        w = int(cap.get(cv2.CAP_PROP_FRAME_WIDTH))\n",
    "        h = int(cap.get(cv2.CAP_PROP_FRAME_HEIGHT))\n",
    "        frame_num = int(cap.get(cv2.CAP_PROP_FRAME_COUNT))        \n",
    "        \n",
    "        self.f = h5py.File(self.hdf5_path, \"w\")\n",
    "        group = self.f.create_group(\"/movie\")\n",
    "        self.dataset = group.create_dataset(name=\"movie_dataset\",\n",
    "                                            shape=(frame_num, h, w, 3),\n",
    "                                            dtype=np.uint8\n",
    "                                           )\n",
    "        self.dataset.attrs[\"length\"] = frame_num\n",
    "        \n",
    "        for i in range(frame_num):\n",
    "            ret, frame = cap.read()\n",
    "            if frame is not None:\n",
    "                self.dataset[i] = frame\n",
    "\n",
    "        cap.release()\n",
    "    \n",
    "    @classmethod\n",
    "    def from_file(cls, hdf5_path, is_temp=False):\n",
    "        \"\"\"\n",
    "        hdf5_path: pathlib.Path or str\n",
    "            保存データのパス\n",
    "        is_temp:\n",
    "            保存データをcloseと同時に破棄するかどうか\n",
    "        \"\"\"\n",
    "        instance = cls(None, is_temp)\n",
    "        instance.hdf5_path = hdf5_path\n",
    "        instance.f = h5py.File(instance.hdf5_path, \"r\")\n",
    "        instance.dataset = instance.f[\"/movie/movie_dataset\"]\n",
    "        return instance\n",
    "    \n",
    "    def close(self):\n",
    "        if hasattr(self, \"f\"):\n",
    "            self.f.close()\n",
    "        if self.is_temp:\n",
    "            if self.hdf5_path.exists():\n",
    "                self.hdf5_path.unlink()\n",
    "                    \n",
    "    def __del__(self):\n",
    "        self.close()\n",
    "            \n",
    "    def __len__(self):\n",
    "        return self.dataset.attrs[\"length\"]\n",
    "    \n",
    "    def __getitem__(self, i):\n",
    "        if i >= len(self):\n",
    "            raise IndexError(\"index out of range\")\n",
    "        \n",
    "        return self.dataset[i]\n",
    "    \n",
    "    def __iter__(self):\n",
    "        def inner_gen():\n",
    "            for i in range(len(self)):\n",
    "                yield self[i]\n",
    "        yield from inner_gen()\n",
    "        \n",
    "    @property\n",
    "    def saved_path(self):\n",
    "        return self.hdf5_path"
   ]
  },
  {
   "cell_type": "code",
   "execution_count": 92,
   "metadata": {
    "ExecuteTime": {
     "end_time": "2021-04-14T04:41:33.825003Z",
     "start_time": "2021-04-14T04:41:33.813042Z"
    }
   },
   "outputs": [],
   "source": [
    "image_array1 = MovieImageArray(\"movies/mini_movie.mp4\", is_temp=False)"
   ]
  },
  {
   "cell_type": "code",
   "execution_count": 93,
   "metadata": {
    "ExecuteTime": {
     "end_time": "2021-04-14T04:41:44.740851Z",
     "start_time": "2021-04-14T04:41:34.461315Z"
    }
   },
   "outputs": [],
   "source": [
    "image_array1.read_movie(is_update=True)"
   ]
  },
  {
   "cell_type": "code",
   "execution_count": 94,
   "metadata": {
    "ExecuteTime": {
     "end_time": "2021-04-14T04:41:44.775719Z",
     "start_time": "2021-04-14T04:41:44.750781Z"
    }
   },
   "outputs": [
    {
     "data": {
      "text/plain": [
       "500"
      ]
     },
     "execution_count": 94,
     "metadata": {},
     "output_type": "execute_result"
    }
   ],
   "source": [
    "len(image_array1)"
   ]
  },
  {
   "cell_type": "code",
   "execution_count": 95,
   "metadata": {
    "ExecuteTime": {
     "end_time": "2021-04-14T04:41:44.899387Z",
     "start_time": "2021-04-14T04:41:44.803645Z"
    }
   },
   "outputs": [
    {
     "data": {
      "text/plain": [
       "array([[[  0,   4,   3],\n",
       "        [  0,   4,   3],\n",
       "        [  0,   4,   3],\n",
       "        ...,\n",
       "        [192, 173, 181],\n",
       "        [192, 173, 181],\n",
       "        [192, 173, 181]],\n",
       "\n",
       "       [[  0,   0,   0],\n",
       "        [  0,   0,   0],\n",
       "        [  0,   0,   0],\n",
       "        ...,\n",
       "        [192, 173, 181],\n",
       "        [192, 173, 181],\n",
       "        [192, 173, 181]],\n",
       "\n",
       "       [[  0,   4,   3],\n",
       "        [  0,   4,   3],\n",
       "        [  0,   4,   3],\n",
       "        ...,\n",
       "        [192, 173, 181],\n",
       "        [192, 173, 181],\n",
       "        [192, 173, 181]],\n",
       "\n",
       "       ...,\n",
       "\n",
       "       [[120, 134,  82],\n",
       "        [120, 134,  82],\n",
       "        [120, 134,  82],\n",
       "        ...,\n",
       "        [  0,   3,   2],\n",
       "        [  0,   2,   1],\n",
       "        [  0,   2,   1]],\n",
       "\n",
       "       [[120, 134,  82],\n",
       "        [120, 134,  82],\n",
       "        [120, 134,  82],\n",
       "        ...,\n",
       "        [  0,   3,   2],\n",
       "        [  0,   2,   1],\n",
       "        [  0,   2,   1]],\n",
       "\n",
       "       [[120, 134,  82],\n",
       "        [120, 134,  82],\n",
       "        [120, 134,  82],\n",
       "        ...,\n",
       "        [  0,   3,   2],\n",
       "        [  0,   2,   1],\n",
       "        [  0,   2,   1]]], dtype=uint8)"
      ]
     },
     "execution_count": 95,
     "metadata": {},
     "output_type": "execute_result"
    }
   ],
   "source": [
    "image_array1[0]"
   ]
  },
  {
   "cell_type": "code",
   "execution_count": 96,
   "metadata": {
    "ExecuteTime": {
     "end_time": "2021-04-14T04:41:56.780608Z",
     "start_time": "2021-04-14T04:41:44.911353Z"
    }
   },
   "outputs": [
    {
     "name": "stdout",
     "output_type": "stream",
     "text": [
      "Wall time: 11.8 s\n"
     ]
    }
   ],
   "source": [
    "%%time\n",
    "for i in range(len(image_array1)):\n",
    "    img = image_array1[i]\n",
    "    pass"
   ]
  },
  {
   "cell_type": "code",
   "execution_count": 97,
   "metadata": {
    "ExecuteTime": {
     "end_time": "2021-04-14T04:42:08.184108Z",
     "start_time": "2021-04-14T04:41:56.795568Z"
    }
   },
   "outputs": [
    {
     "name": "stdout",
     "output_type": "stream",
     "text": [
      "Wall time: 11.4 s\n"
     ]
    }
   ],
   "source": [
    "%%time\n",
    "for image in image_array1:\n",
    "    pass"
   ]
  },
  {
   "cell_type": "code",
   "execution_count": 101,
   "metadata": {
    "ExecuteTime": {
     "end_time": "2021-04-14T04:42:35.554991Z",
     "start_time": "2021-04-14T04:42:35.535045Z"
    }
   },
   "outputs": [],
   "source": [
    "image_array1.close()"
   ]
  },
  {
   "cell_type": "code",
   "execution_count": 98,
   "metadata": {
    "ExecuteTime": {
     "end_time": "2021-04-14T04:42:13.158799Z",
     "start_time": "2021-04-14T04:42:12.932404Z"
    }
   },
   "outputs": [],
   "source": [
    "image_array1_from_file = MovieImageArray.from_file(image_array1.saved_path, is_temp=True)"
   ]
  },
  {
   "cell_type": "code",
   "execution_count": 99,
   "metadata": {
    "ExecuteTime": {
     "end_time": "2021-04-14T04:42:25.718212Z",
     "start_time": "2021-04-14T04:42:25.658368Z"
    }
   },
   "outputs": [
    {
     "data": {
      "text/plain": [
       "array([[[  0,   4,   3],\n",
       "        [  0,   4,   3],\n",
       "        [  0,   4,   3],\n",
       "        ...,\n",
       "        [192, 173, 181],\n",
       "        [192, 173, 181],\n",
       "        [192, 173, 181]],\n",
       "\n",
       "       [[  0,   0,   0],\n",
       "        [  0,   0,   0],\n",
       "        [  0,   0,   0],\n",
       "        ...,\n",
       "        [192, 173, 181],\n",
       "        [192, 173, 181],\n",
       "        [192, 173, 181]],\n",
       "\n",
       "       [[  0,   4,   3],\n",
       "        [  0,   4,   3],\n",
       "        [  0,   4,   3],\n",
       "        ...,\n",
       "        [192, 173, 181],\n",
       "        [192, 173, 181],\n",
       "        [192, 173, 181]],\n",
       "\n",
       "       ...,\n",
       "\n",
       "       [[120, 134,  82],\n",
       "        [120, 134,  82],\n",
       "        [120, 134,  82],\n",
       "        ...,\n",
       "        [  0,   3,   2],\n",
       "        [  0,   2,   1],\n",
       "        [  0,   2,   1]],\n",
       "\n",
       "       [[120, 134,  82],\n",
       "        [120, 134,  82],\n",
       "        [120, 134,  82],\n",
       "        ...,\n",
       "        [  0,   3,   2],\n",
       "        [  0,   2,   1],\n",
       "        [  0,   2,   1]],\n",
       "\n",
       "       [[120, 134,  82],\n",
       "        [120, 134,  82],\n",
       "        [120, 134,  82],\n",
       "        ...,\n",
       "        [  0,   3,   2],\n",
       "        [  0,   2,   1],\n",
       "        [  0,   2,   1]]], dtype=uint8)"
      ]
     },
     "execution_count": 99,
     "metadata": {},
     "output_type": "execute_result"
    }
   ],
   "source": [
    "image_array1_from_file[0]"
   ]
  },
  {
   "cell_type": "code",
   "execution_count": 102,
   "metadata": {
    "ExecuteTime": {
     "end_time": "2021-04-14T04:42:39.407739Z",
     "start_time": "2021-04-14T04:42:39.372782Z"
    }
   },
   "outputs": [],
   "source": [
    "image_array1_from_file.close()"
   ]
  },
  {
   "cell_type": "markdown",
   "metadata": {},
   "source": [
    "## 画像ファイルで保存 "
   ]
  },
  {
   "cell_type": "code",
   "execution_count": 35,
   "metadata": {
    "ExecuteTime": {
     "end_time": "2021-04-14T02:56:52.651169Z",
     "start_time": "2021-04-14T02:56:52.494589Z"
    }
   },
   "outputs": [],
   "source": [
    "dir_path = Path(\"movie_images\")\n",
    "if not dir_path.exists():\n",
    "    dir_path.mkdir()"
   ]
  },
  {
   "cell_type": "code",
   "execution_count": 36,
   "metadata": {
    "ExecuteTime": {
     "end_time": "2021-04-14T02:56:53.125895Z",
     "start_time": "2021-04-14T02:56:53.088992Z"
    }
   },
   "outputs": [],
   "source": [
    "video_path = Path(\"movies/mini_movie.mp4\")\n",
    "cap = cv2.VideoCapture(str(video_path))\n",
    "frame_num = int(cap.get(cv2.CAP_PROP_FRAME_COUNT))"
   ]
  },
  {
   "cell_type": "code",
   "execution_count": 37,
   "metadata": {
    "ExecuteTime": {
     "end_time": "2021-04-14T02:56:53.647502Z",
     "start_time": "2021-04-14T02:56:53.582674Z"
    }
   },
   "outputs": [],
   "source": [
    "ret, frame = cap.read()"
   ]
  },
  {
   "cell_type": "code",
   "execution_count": 38,
   "metadata": {
    "ExecuteTime": {
     "end_time": "2021-04-14T02:58:20.454325Z",
     "start_time": "2021-04-14T02:56:53.905810Z"
    }
   },
   "outputs": [],
   "source": [
    "counter = 0\n",
    "image_name_base = \"image\"\n",
    "\n",
    "for i in range(frame_num):\n",
    "    ret, frame = cap.read()\n",
    "    if frame is not None:\n",
    "        image_path = dir_path / Path(image_name_base+\"_{}.png\".format(counter))\n",
    "        cv2.imwrite(str(image_path), frame)\n",
    "        counter += 1"
   ]
  },
  {
   "cell_type": "code",
   "execution_count": 39,
   "metadata": {
    "ExecuteTime": {
     "end_time": "2021-04-14T02:58:20.518159Z",
     "start_time": "2021-04-14T02:58:20.463299Z"
    }
   },
   "outputs": [],
   "source": [
    "cap.release()"
   ]
  },
  {
   "cell_type": "code",
   "execution_count": 40,
   "metadata": {
    "ExecuteTime": {
     "end_time": "2021-04-14T02:58:25.429019Z",
     "start_time": "2021-04-14T02:58:20.530131Z"
    }
   },
   "outputs": [
    {
     "name": "stdout",
     "output_type": "stream",
     "text": [
      "59.7 ms ± 27.4 ms per loop (mean ± std. dev. of 7 runs, 10 loops each)\n"
     ]
    }
   ],
   "source": [
    "%timeit cv2.imread(\"movie_images/image_0.png\")"
   ]
  },
  {
   "cell_type": "code",
   "execution_count": 41,
   "metadata": {
    "ExecuteTime": {
     "end_time": "2021-04-14T02:58:28.058986Z",
     "start_time": "2021-04-14T02:58:25.442980Z"
    }
   },
   "outputs": [],
   "source": [
    "shutil.rmtree(dir_path)"
   ]
  },
  {
   "cell_type": "markdown",
   "metadata": {},
   "source": [
    "### 動画から取得した画像のarray(直接pngを作成)"
   ]
  },
  {
   "cell_type": "code",
   "execution_count": 4,
   "metadata": {
    "ExecuteTime": {
     "end_time": "2021-04-14T12:48:44.263004Z",
     "start_time": "2021-04-14T12:48:44.086035Z"
    },
    "code_folding": []
   },
   "outputs": [],
   "source": [
    "class MovieImageArrayFile:\n",
    "    \"\"\"\n",
    "    MovieImageArrayと同じインターフェースで，生画像を保存する．\n",
    "    ストレージを利用するので注意．\n",
    "    \"\"\"\n",
    "    def __init__(self, movie_path, is_temp=False, temp_dir=Path(\"\")):\n",
    "        \"\"\"\n",
    "        movie_path: pathlib.Path or str\n",
    "            読み込みたい動画のパス\n",
    "        is_temp:　bool\n",
    "            保存データをcloseと同時に破棄するかどうか\n",
    "        temp_dir:　pathlib.Path or str\n",
    "            保存データを置くディレクトリ\n",
    "        \"\"\"\n",
    "        if movie_path is not None:\n",
    "            self.movie_path = Path(movie_path)\n",
    "            movie_name = self.movie_path.stem\n",
    "        else:\n",
    "            self.movie_path = None\n",
    "            movie_name = \"\"\n",
    "            \n",
    "        self.is_temp = is_temp\n",
    "        self.dir_path = Path(temp_dir)/Path(\"images_\"+movie_name)\n",
    "        self.image_name_base = \"image\"\n",
    "        self.image_paths = []\n",
    "        \n",
    "    def read_movie(self, is_update=False):\n",
    "        \"\"\"\n",
    "        動画データの読み込み\n",
    "        is_update: bool\n",
    "            すでに保存データが存在する場合にデータを更新するかとうか．\n",
    "        \"\"\"\n",
    "        if self.movie_path is None:\n",
    "            raise Exception(\"movie path is not setted\")\n",
    "            \n",
    "        if self.dir_path.exists() and not is_update:  # ディレクトリが存在しており，アップデートしない場合\n",
    "            self._read_from_dir()\n",
    "            return None\n",
    "        elif self.dir_path.exists() and is_update:  # ディレクトリが存在しており，アップデートする場合\n",
    "            shutil.rmtree(self.dir_path)\n",
    "            self.dir_path.mkdir()\n",
    "        elif not self.dir_path.exists():  # ディレクトリが存在しない場合\n",
    "            self.dir_path.mkdir()\n",
    "\n",
    "        cap = cv2.VideoCapture(str(self.movie_path))\n",
    "        frame_num = int(cap.get(cv2.CAP_PROP_FRAME_COUNT))\n",
    "        \n",
    "        counter = 0\n",
    "        for i in range(frame_num):\n",
    "            ret, frame = cap.read()\n",
    "            if frame is not None:\n",
    "                image_path = self.dir_path / Path(self.image_name_base+\"_{}.png\".format(counter))\n",
    "                cv2.imwrite(str(image_path), frame)\n",
    "                counter += 1        \n",
    "        \n",
    "        cap.release()\n",
    "        self._read_from_dir()\n",
    "    \n",
    "    def _read_from_dir(self):\n",
    "        \"\"\"\n",
    "        ディレクトリの読み込み\n",
    "        \"\"\"\n",
    "        image_paths = []\n",
    "        for one_image_path in self.dir_path.glob(\"*.png\"):\n",
    "            image_paths.append(one_image_path)\n",
    "        self.image_paths = image_paths\n",
    "    \n",
    "    @classmethod\n",
    "    def from_file(cls, dir_path, is_temp=False):\n",
    "        \"\"\"\n",
    "        dir_path: pathlib.Path or str\n",
    "            保存データのパス\n",
    "        is_temp:\n",
    "            保存データをcloseと同時に破棄するかどうか\n",
    "        \"\"\"\n",
    "        instance = cls(None, is_temp)\n",
    "        instance.dir_path = dir_path\n",
    "        instance._read_from_dir()\n",
    "        return instance\n",
    "    \n",
    "    def close(self):\n",
    "        if self.is_temp:\n",
    "            if self.dir_path.exists():\n",
    "                shutil.rmtree(self.dir_path)\n",
    "                    \n",
    "    def __del__(self):\n",
    "        self.close()\n",
    "            \n",
    "    def __len__(self):\n",
    "        return len(self.image_paths)\n",
    "    \n",
    "    def __getitem__(self, i):\n",
    "        image_path = self.image_paths[i]\n",
    "        image = cv2.imread(str(image_path))\n",
    "        return image\n",
    "        \n",
    "    def __iter__(self):\n",
    "        def inner_gen():\n",
    "            for i in range(len(self)):\n",
    "                yield self[i]\n",
    "        yield from inner_gen()\n",
    "        \n",
    "    @property\n",
    "    def saved_path(self):\n",
    "        return self.dir_path"
   ]
  },
  {
   "cell_type": "code",
   "execution_count": 5,
   "metadata": {
    "ExecuteTime": {
     "end_time": "2021-04-14T12:48:53.000304Z",
     "start_time": "2021-04-14T12:48:52.969625Z"
    }
   },
   "outputs": [],
   "source": [
    "image_array2 = MovieImageArrayFile(\"movies/mini_movie.mp4\", is_temp=False)"
   ]
  },
  {
   "cell_type": "code",
   "execution_count": 6,
   "metadata": {
    "ExecuteTime": {
     "end_time": "2021-04-14T12:50:04.609591Z",
     "start_time": "2021-04-14T12:48:57.206282Z"
    }
   },
   "outputs": [],
   "source": [
    "image_array2.read_movie(is_update=False)"
   ]
  },
  {
   "cell_type": "code",
   "execution_count": 106,
   "metadata": {
    "ExecuteTime": {
     "end_time": "2021-04-14T04:44:42.923549Z",
     "start_time": "2021-04-14T04:44:42.807858Z"
    }
   },
   "outputs": [
    {
     "data": {
      "text/plain": [
       "array([[[  0,   4,   3],\n",
       "        [  0,   4,   3],\n",
       "        [  0,   4,   3],\n",
       "        ...,\n",
       "        [192, 173, 181],\n",
       "        [192, 173, 181],\n",
       "        [192, 173, 181]],\n",
       "\n",
       "       [[  0,   0,   0],\n",
       "        [  0,   0,   0],\n",
       "        [  0,   0,   0],\n",
       "        ...,\n",
       "        [192, 173, 181],\n",
       "        [192, 173, 181],\n",
       "        [192, 173, 181]],\n",
       "\n",
       "       [[  0,   4,   3],\n",
       "        [  0,   4,   3],\n",
       "        [  0,   4,   3],\n",
       "        ...,\n",
       "        [192, 173, 181],\n",
       "        [192, 173, 181],\n",
       "        [192, 173, 181]],\n",
       "\n",
       "       ...,\n",
       "\n",
       "       [[120, 134,  82],\n",
       "        [120, 134,  82],\n",
       "        [120, 134,  82],\n",
       "        ...,\n",
       "        [  0,   3,   2],\n",
       "        [  0,   2,   1],\n",
       "        [  0,   2,   1]],\n",
       "\n",
       "       [[120, 134,  82],\n",
       "        [120, 134,  82],\n",
       "        [120, 134,  82],\n",
       "        ...,\n",
       "        [  0,   3,   2],\n",
       "        [  0,   2,   1],\n",
       "        [  0,   2,   1]],\n",
       "\n",
       "       [[120, 134,  82],\n",
       "        [120, 134,  82],\n",
       "        [120, 134,  82],\n",
       "        ...,\n",
       "        [  0,   3,   2],\n",
       "        [  0,   2,   1],\n",
       "        [  0,   2,   1]]], dtype=uint8)"
      ]
     },
     "execution_count": 106,
     "metadata": {},
     "output_type": "execute_result"
    }
   ],
   "source": [
    "image_array2[0]"
   ]
  },
  {
   "cell_type": "code",
   "execution_count": 107,
   "metadata": {
    "ExecuteTime": {
     "end_time": "2021-04-14T04:45:07.991506Z",
     "start_time": "2021-04-14T04:44:42.948481Z"
    }
   },
   "outputs": [
    {
     "name": "stdout",
     "output_type": "stream",
     "text": [
      "Wall time: 25 s\n"
     ]
    }
   ],
   "source": [
    "%%time\n",
    "for image in image_array2:\n",
    "    pass"
   ]
  },
  {
   "cell_type": "code",
   "execution_count": 108,
   "metadata": {
    "ExecuteTime": {
     "end_time": "2021-04-14T04:45:08.023412Z",
     "start_time": "2021-04-14T04:45:08.010451Z"
    }
   },
   "outputs": [],
   "source": [
    "image_array2.close()"
   ]
  },
  {
   "cell_type": "code",
   "execution_count": 109,
   "metadata": {
    "ExecuteTime": {
     "end_time": "2021-04-14T04:45:08.072283Z",
     "start_time": "2021-04-14T04:45:08.035383Z"
    }
   },
   "outputs": [],
   "source": [
    "image_array2_from_file = MovieImageArrayFile.from_file(image_array2.saved_path, is_temp=True)"
   ]
  },
  {
   "cell_type": "code",
   "execution_count": 110,
   "metadata": {
    "ExecuteTime": {
     "end_time": "2021-04-14T04:45:08.152069Z",
     "start_time": "2021-04-14T04:45:08.080264Z"
    }
   },
   "outputs": [
    {
     "data": {
      "text/plain": [
       "array([[[  0,   4,   3],\n",
       "        [  0,   4,   3],\n",
       "        [  0,   4,   3],\n",
       "        ...,\n",
       "        [192, 173, 181],\n",
       "        [192, 173, 181],\n",
       "        [192, 173, 181]],\n",
       "\n",
       "       [[  0,   0,   0],\n",
       "        [  0,   0,   0],\n",
       "        [  0,   0,   0],\n",
       "        ...,\n",
       "        [192, 173, 181],\n",
       "        [192, 173, 181],\n",
       "        [192, 173, 181]],\n",
       "\n",
       "       [[  0,   4,   3],\n",
       "        [  0,   4,   3],\n",
       "        [  0,   4,   3],\n",
       "        ...,\n",
       "        [192, 173, 181],\n",
       "        [192, 173, 181],\n",
       "        [192, 173, 181]],\n",
       "\n",
       "       ...,\n",
       "\n",
       "       [[120, 134,  82],\n",
       "        [120, 134,  82],\n",
       "        [120, 134,  82],\n",
       "        ...,\n",
       "        [  0,   3,   2],\n",
       "        [  0,   2,   1],\n",
       "        [  0,   2,   1]],\n",
       "\n",
       "       [[120, 134,  82],\n",
       "        [120, 134,  82],\n",
       "        [120, 134,  82],\n",
       "        ...,\n",
       "        [  0,   3,   2],\n",
       "        [  0,   2,   1],\n",
       "        [  0,   2,   1]],\n",
       "\n",
       "       [[120, 134,  82],\n",
       "        [120, 134,  82],\n",
       "        [120, 134,  82],\n",
       "        ...,\n",
       "        [  0,   3,   2],\n",
       "        [  0,   2,   1],\n",
       "        [  0,   2,   1]]], dtype=uint8)"
      ]
     },
     "execution_count": 110,
     "metadata": {},
     "output_type": "execute_result"
    }
   ],
   "source": [
    "image_array2_from_file[0]"
   ]
  },
  {
   "cell_type": "code",
   "execution_count": 111,
   "metadata": {
    "ExecuteTime": {
     "end_time": "2021-04-14T04:45:09.732883Z",
     "start_time": "2021-04-14T04:45:08.166033Z"
    }
   },
   "outputs": [],
   "source": [
    "image_array2_from_file.close()"
   ]
  },
  {
   "cell_type": "markdown",
   "metadata": {},
   "source": [
    "## 動画から取得した画像のarray(生画像) "
   ]
  },
  {
   "cell_type": "code",
   "execution_count": 48,
   "metadata": {
    "ExecuteTime": {
     "end_time": "2021-04-14T03:00:43.420915Z",
     "start_time": "2021-04-14T03:00:43.258348Z"
    }
   },
   "outputs": [],
   "source": [
    "class MovieImageArrayRaw:\n",
    "    \"\"\"\n",
    "    MovieImageArrayと同じインターフェースでメモリに展開．\n",
    "    速度は早い．\n",
    "    \"\"\"\n",
    "    def __init__(self, movie_path, *args, **kwargs):\n",
    "        \"\"\"\n",
    "        movie_path: pathlib.Path or str\n",
    "            読み込みたい動画のパス\n",
    "        \"\"\"\n",
    "        if movie_path is not None:\n",
    "            self.movie_path = Path(movie_path)\n",
    "        else:\n",
    "            self.movie_path = None\n",
    "        self.images = []\n",
    "        \n",
    "    def read_movie(self, *args, **kwargs):\n",
    "        \"\"\"\n",
    "        動画データの読み込み\n",
    "        \"\"\"\n",
    "        if self.movie_path is None:\n",
    "            raise Exception(\"movie path is not setted\")\n",
    "            \n",
    "        cap = cv2.VideoCapture(str(self.movie_path))\n",
    "        frame_num = int(cap.get(cv2.CAP_PROP_FRAME_COUNT))\n",
    "        \n",
    "        images_list = []\n",
    "        for i in range(frame_num):\n",
    "            ret, frame = cap.read()\n",
    "            if frame is not None:\n",
    "                images_list.append(frame)\n",
    "        \n",
    "        cap.release()\n",
    "        self.images = images_list\n",
    "    \n",
    "    def close(self):\n",
    "        pass\n",
    "    \n",
    "    def __del__(self):\n",
    "        self.close()\n",
    "            \n",
    "    def __len__(self):\n",
    "        return len(self.images)\n",
    "    \n",
    "    def __getitem__(self, i):\n",
    "        image = self.images[i]\n",
    "        return image\n",
    "        \n",
    "    def __iter__(self):\n",
    "        def inner_gen():\n",
    "            for i in range(len(self)):\n",
    "                yield self[i]\n",
    "        yield from inner_gen()"
   ]
  },
  {
   "cell_type": "markdown",
   "metadata": {},
   "source": [
    "以下，メモリ注意"
   ]
  },
  {
   "cell_type": "code",
   "execution_count": 54,
   "metadata": {
    "ExecuteTime": {
     "end_time": "2021-04-14T03:02:04.095141Z",
     "start_time": "2021-04-14T03:02:04.075193Z"
    }
   },
   "outputs": [],
   "source": [
    "image_array3 = MovieImageArrayRaw(\"movies/mini_movie.mp4\")"
   ]
  },
  {
   "cell_type": "code",
   "execution_count": 55,
   "metadata": {
    "ExecuteTime": {
     "end_time": "2021-04-14T03:02:08.773677Z",
     "start_time": "2021-04-14T03:02:05.689875Z"
    }
   },
   "outputs": [],
   "source": [
    "image_array3.read_movie()"
   ]
  },
  {
   "cell_type": "code",
   "execution_count": 51,
   "metadata": {
    "ExecuteTime": {
     "end_time": "2021-04-14T03:00:47.234715Z",
     "start_time": "2021-04-14T03:00:47.196813Z"
    }
   },
   "outputs": [
    {
     "data": {
      "text/plain": [
       "array([[[  0,   4,   3],\n",
       "        [  0,   4,   3],\n",
       "        [  0,   4,   3],\n",
       "        ...,\n",
       "        [192, 173, 181],\n",
       "        [192, 173, 181],\n",
       "        [192, 173, 181]],\n",
       "\n",
       "       [[  0,   0,   0],\n",
       "        [  0,   0,   0],\n",
       "        [  0,   0,   0],\n",
       "        ...,\n",
       "        [192, 173, 181],\n",
       "        [192, 173, 181],\n",
       "        [192, 173, 181]],\n",
       "\n",
       "       [[  0,   4,   3],\n",
       "        [  0,   4,   3],\n",
       "        [  0,   4,   3],\n",
       "        ...,\n",
       "        [192, 173, 181],\n",
       "        [192, 173, 181],\n",
       "        [192, 173, 181]],\n",
       "\n",
       "       ...,\n",
       "\n",
       "       [[120, 134,  82],\n",
       "        [120, 134,  82],\n",
       "        [120, 134,  82],\n",
       "        ...,\n",
       "        [  0,   3,   2],\n",
       "        [  0,   2,   1],\n",
       "        [  0,   2,   1]],\n",
       "\n",
       "       [[120, 134,  82],\n",
       "        [120, 134,  82],\n",
       "        [120, 134,  82],\n",
       "        ...,\n",
       "        [  0,   3,   2],\n",
       "        [  0,   2,   1],\n",
       "        [  0,   2,   1]],\n",
       "\n",
       "       [[120, 134,  82],\n",
       "        [120, 134,  82],\n",
       "        [120, 134,  82],\n",
       "        ...,\n",
       "        [  0,   3,   2],\n",
       "        [  0,   2,   1],\n",
       "        [  0,   2,   1]]], dtype=uint8)"
      ]
     },
     "execution_count": 51,
     "metadata": {},
     "output_type": "execute_result"
    }
   ],
   "source": [
    "image_array3[0]"
   ]
  },
  {
   "cell_type": "code",
   "execution_count": 52,
   "metadata": {
    "ExecuteTime": {
     "end_time": "2021-04-14T03:00:47.282606Z",
     "start_time": "2021-04-14T03:00:47.244686Z"
    }
   },
   "outputs": [
    {
     "name": "stdout",
     "output_type": "stream",
     "text": [
      "Wall time: 2 ms\n"
     ]
    }
   ],
   "source": [
    "%%time\n",
    "for image in image_array3:\n",
    "    pass"
   ]
  },
  {
   "cell_type": "code",
   "execution_count": 56,
   "metadata": {
    "ExecuteTime": {
     "end_time": "2021-04-14T03:02:20.737624Z",
     "start_time": "2021-04-14T03:02:20.590022Z"
    }
   },
   "outputs": [],
   "source": [
    "del image_array3"
   ]
  },
  {
   "cell_type": "code",
   "execution_count": null,
   "metadata": {},
   "outputs": [],
   "source": []
  }
 ],
 "metadata": {
  "kernelspec": {
   "display_name": "torch_py37",
   "language": "python",
   "name": "torch_py37"
  },
  "language_info": {
   "codemirror_mode": {
    "name": "ipython",
    "version": 3
   },
   "file_extension": ".py",
   "mimetype": "text/x-python",
   "name": "python",
   "nbconvert_exporter": "python",
   "pygments_lexer": "ipython3",
   "version": "3.7.4"
  },
  "toc": {
   "base_numbering": 1,
   "nav_menu": {},
   "number_sections": true,
   "sideBar": true,
   "skip_h1_title": true,
   "title_cell": "Table of Contents",
   "title_sidebar": "Contents",
   "toc_cell": false,
   "toc_position": {},
   "toc_section_display": true,
   "toc_window_display": false
  }
 },
 "nbformat": 4,
 "nbformat_minor": 4
}
